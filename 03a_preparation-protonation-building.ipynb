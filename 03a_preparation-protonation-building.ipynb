{
 "cells": [
  {
   "cell_type": "markdown",
   "metadata": {
    "slideshow": {
     "slide_type": "slide"
    }
   },
   "source": [
    "# Preparation, protonation, building\n",
    "## Toni Giorgino\n",
    "Institute of Neurosciences  \n",
    "National Research Council of Italy\n"
   ]
  },
  {
   "cell_type": "markdown",
   "metadata": {
    "slideshow": {
     "slide_type": "subslide"
    }
   },
   "source": [
    "# Abstract\n",
    "\n",
    "This session will cover the steps **preliminary** to a simulation -- from a raw PDB file, to a set of files constituting a **runnable** system. The **system preparation** phase, based on the PDB2PQR and propKa softwares, addresses e.g. the problems of assigning  titration states at the user-chosen pH; flipping the side chains of HIS, ASN, and GLN residues; and optimizing the overall hydrogen bonding network. The **build** phase takes a prepared system and applies the chosen forcefield in order to obtain simulation-ready input files. This session provides an overview of the options available and feedback obtained during the preparation and building phases."
   ]
  },
  {
   "cell_type": "markdown",
   "metadata": {
    "slideshow": {
     "slide_type": "slide"
    }
   },
   "source": [
    "# Overview\n",
    "\n",
    "This session will cover the steps **preliminary** to \n",
    "a simulation -- from a raw PDB file, to a set of\n",
    "files constituting a **runnable** system.\n",
    "\n",
    "Currently supported output formats:\n",
    "*CHARMM* and *AMBER*.\n",
    "\n",
    "We shall also deal with transmembrane domains."
   ]
  },
  {
   "cell_type": "markdown",
   "metadata": {
    "slideshow": {
     "slide_type": "slide"
    }
   },
   "source": [
    "<img src=\"img/overview.svg\" style=\"width: 70%\"/>"
   ]
  },
  {
   "cell_type": "markdown",
   "metadata": {
    "slideshow": {
     "slide_type": "slide"
    }
   },
   "source": [
    "# Let's start"
   ]
  },
  {
   "cell_type": "code",
   "execution_count": null,
   "metadata": {
    "collapsed": false,
    "slideshow": {
     "slide_type": "-"
    }
   },
   "outputs": [],
   "source": [
    "# %qtconsole\n",
    "from htmd import *"
   ]
  },
  {
   "cell_type": "markdown",
   "metadata": {
    "slideshow": {
     "slide_type": "slide"
    }
   },
   "source": [
    "# Part 1. Protein preparation"
   ]
  },
  {
   "cell_type": "markdown",
   "metadata": {},
   "source": [
    "The system preparation phase is based on the PDB2PQR software. It \n",
    "includes the following steps (from the\n",
    "[PDB2PQR algorithm\n",
    "description](http://www.poissonboltzmann.org/docs/pdb2pqr-algorithm-description/)):\n",
    "\n",
    " * Compute empirical pKa values for the residues' local environment (propKa)\n",
    " * Assign titration states at the user-chosen pH;\n",
    " * Flipping the side chains of HIS (including user defined HIS states), ASN, and GLN residues;\n",
    " * Rotating the sidechain hydrogen on SER, THR, TYR, and CYS (if available);\n",
    " * Determining the best placement for the sidechain hydrogen on neutral HIS, protonated GLU, and protonated ASP;\n",
    " * Optimizing all water hydrogens."
   ]
  },
  {
   "cell_type": "markdown",
   "metadata": {
    "slideshow": {
     "slide_type": "subslide"
    }
   },
   "source": [
    "The hydrogen bonding network calculations are performed by the\n",
    "[PDB2PQR](http://www.poissonboltzmann.org/) software package. The pKa\n",
    "calculations are performed by the [PROPKA\n",
    "3.1](https://github.com/jensengroup/propka-3.1) software packages.\n",
    "Please see the copyright, license  and citation terms distributed with each.\n",
    "\n",
    "Note that this version was modified in order to use an \n",
    "externally-supplied propKa **3.1** (installed automatically via dependencies), whereas\n",
    "the original had propKa 3.0 *embedded*!\n",
    "\n",
    "The results of the function should be roughly equivalent of the system\n",
    "preparation wizard's preprocessing and optimization steps\n",
    "of Schrodinger's Maestro software."
   ]
  },
  {
   "cell_type": "markdown",
   "metadata": {
    "slideshow": {
     "slide_type": "slide"
    }
   },
   "source": [
    "<img src=\"img/naming.svg\" style=\"width: 70%\"/>"
   ]
  },
  {
   "cell_type": "markdown",
   "metadata": {
    "slideshow": {
     "slide_type": "subslide"
    }
   },
   "source": [
    "Modified residue names\n",
    "----------------------\n",
    "\n",
    "The molecule produced by the preparation modifies residue names\n",
    "according to their protonation.\n",
    "Later system-building functions assume these residue naming conventions. \n",
    "**Note**: support for alternative charge states varies between the  forcefields.\n",
    "\n",
    "Charge +1    |  Neutral   | Charge -1\n",
    "-------------|------------|----------\n",
    " -           |  ASH       | ASP\n",
    " -           |  CYS       | CYM\n",
    " -           |  GLH       | GLU\n",
    "HIP          |  HID/HIE   |  -\n",
    "LYS          |  LYN       |  -\n",
    " -           |  TYR       | TYM\n",
    "ARG          |  AR0       |  -\n",
    "\n"
   ]
  },
  {
   "cell_type": "markdown",
   "metadata": {
    "slideshow": {
     "slide_type": "subslide"
    }
   },
   "source": [
    "The `proteinPrepare` function requires a `Molecule` object, the protein to be prepared, as an argument, and returns the prepared system, also as a `Molecule`. Logging messages will provide information and warnings about the process.\n",
    "\n",
    "```python\n",
    "def proteinPrepare(mol_in,\n",
    "                   pH=7.0,\n",
    "                   verbose=0,\n",
    "                   returnDetails=False,\n",
    "                   hydrophobicThickness=None,\n",
    "                   holdSelection=None):\n",
    "```\n",
    "\n",
    "Returns a Molecule object, where residues have been renamed to follow\n",
    "internal conventions on protonation (below). Coordinates are changed to\n",
    "optimize the H-bonding network. This should be roughly comparable to\n",
    "Schroedinger Maestro's preparation wizard."
   ]
  },
  {
   "cell_type": "markdown",
   "metadata": {
    "slideshow": {
     "slide_type": "subslide"
    }
   },
   "source": [
    "## Parameters\n",
    "\n",
    "    mol_in : htmd.Molecule\n",
    "        the object to be optimized\n",
    "    pH : float\n",
    "        pH to decide titration\n",
    "    verbose : int\n",
    "        verbosity\n",
    "    returnDetails : bool\n",
    "        whether to return just the prepared Molecule (False, default) or a molecule *and* a ResidueInfo\n",
    "        object including computed properties\n",
    "    hydrophobicThickness : float\n",
    "        the thickness of the membrane in which the protein is embedded, or None if globular protein.\n",
    "        Used to provide a warning about membrane-exposed residues.\n",
    "    holdSelection : str\n",
    "        Atom selection to be excluded from optimization.\n",
    "        Only the carbon-alpha atom will be considered for the corresponding residue."
   ]
  },
  {
   "cell_type": "markdown",
   "metadata": {
    "slideshow": {
     "slide_type": "subslide"
    }
   },
   "source": [
    "`proteinPrepare()` is a convenience function. Using it\n",
    "is **not** mandatory. You can \n",
    "manipulate the input molecule with your custom functions. \n",
    "In particular,\n",
    "\n",
    "* Addition of hydrogen atoms is not required\n",
    "* Protonation states are set by renaming residues\n",
    "* HIS and other residues can be edited as coordinates\n",
    "\n"
   ]
  },
  {
   "cell_type": "markdown",
   "metadata": {},
   "source": [
    "## Example\n",
    "\n",
    "Prepare trypsin (PDB: 3PTB) at pH 7."
   ]
  },
  {
   "cell_type": "code",
   "execution_count": null,
   "metadata": {
    "collapsed": false
   },
   "outputs": [],
   "source": [
    "tryp = Molecule(\"3PTB\")\n",
    "tryp_op = proteinPrepare(tryp)"
   ]
  },
  {
   "cell_type": "markdown",
   "metadata": {
    "slideshow": {
     "slide_type": "slide"
    }
   },
   "source": [
    "## Preparation report\n",
    "\n",
    "If the `returnDetails` argument is set,  an object of type `ResidueData` is returned as a **second** return value. It carries a wealth of information on the preparation results. "
   ]
  },
  {
   "cell_type": "code",
   "execution_count": null,
   "metadata": {
    "collapsed": false
   },
   "outputs": [],
   "source": [
    "tryp_op, prepData = proteinPrepare(tryp, returnDetails=True)\n",
    "prepData"
   ]
  },
  {
   "cell_type": "markdown",
   "metadata": {
    "slideshow": {
     "slide_type": "subslide"
    }
   },
   "source": [
    "Most of it is accessible in the `data` property (a pandas `DataFrame`)."
   ]
  },
  {
   "cell_type": "code",
   "execution_count": null,
   "metadata": {
    "collapsed": false
   },
   "outputs": [],
   "source": [
    "prepData.data"
   ]
  },
  {
   "cell_type": "markdown",
   "metadata": {
    "slideshow": {
     "slide_type": "subslide"
    }
   },
   "source": [
    "As such, it can be easily queried and written as a spreadsheet in Excel or CSV format."
   ]
  },
  {
   "cell_type": "code",
   "execution_count": null,
   "metadata": {
    "collapsed": true
   },
   "outputs": [],
   "source": [
    "prepData.data.to_excel(\"/tmp/tryp_data.xlsx\")"
   ]
  },
  {
   "cell_type": "markdown",
   "metadata": {
    "slideshow": {
     "slide_type": "slide"
    }
   },
   "source": [
    "## Membrane proteins\n",
    "\n",
    "Membrane-embedded proteins are in contact with an hydrophobic region which may alter pKa values for membrane-exposed residues ([Teixera et al., J. Chem. Theory Comput., 2016, 12 (3), pp 930–934](http://dx.doi.org/10.1021/acs.jctc.5b01114)). Although the effect is not currently   taken into account quantitatively, if a `hydrophobicThickness` argument is provided, warnings will be generated for residues exposed to the lipid region."
   ]
  },
  {
   "cell_type": "markdown",
   "metadata": {},
   "source": [
    "<img src=\"img/ct-2015-01114c_0002.jpeg\" style=\"width: 70%\"/>\n",
    "<!-- http://pubs.acs.org/appl/literatum/publisher/achs/journals/content/jctcce/2016/jctcce.2016.12.issue-3/acs.jctc.5b01114/20160302/images/large/ct-2015-01114c_0002.jpeg -->\n",
    "\n",
    "Residue pKa values along the membrane normal. Negative insertion values correspond to deeper membrane insertions, while positive values correspond to more shallow locations. The insertion values were measured between the titrable group and the phosphate from the nearest lipid (see Methods and Supporting Information for details). The aqueous bulk pKa values of the pentapeptides are shown on top for comparison. Ctr and Ntr correspond to the C- and N-terminus, respectively. The two horizontal lines at ∼1 Å and ∼−6 Å correspond to the average positions of the choline nitrogens and the second carbon atoms of the acyl chains, respectively."
   ]
  },
  {
   "cell_type": "markdown",
   "metadata": {
    "slideshow": {
     "slide_type": "subslide"
    }
   },
   "source": [
    "The following example shows the preparation of the mu opioid receptor, 4DKL. \n",
    "The **pre-oriented** structure is retrieved  from the OPM database."
   ]
  },
  {
   "cell_type": "code",
   "execution_count": null,
   "metadata": {
    "collapsed": false,
    "slideshow": {
     "slide_type": "-"
    }
   },
   "outputs": [],
   "source": [
    "mor, thickness = htmd.util.opm(\"4dkl\") \n",
    "print(thickness)\n",
    "mor.filter(\"protein and noh\")\n",
    "mor_opt, mor_data = proteinPrepare(mor, returnDetails=True,\n",
    "                                   hydrophobicThickness=thickness)\n",
    "\n",
    "exposedRes = mor_data.data.membraneExposed\n",
    "mor_data.data[exposedRes]\n",
    "mor_data.data[exposedRes].to_excel(\"/tmp/mor_exposed_residues.xlsx\")"
   ]
  },
  {
   "cell_type": "markdown",
   "metadata": {
    "collapsed": true,
    "slideshow": {
     "slide_type": "slide"
    }
   },
   "source": [
    "# Step 2: Building\n",
    "\n",
    "Only the basics - please find extensive tutorials at www.htmd.org ."
   ]
  },
  {
   "cell_type": "code",
   "execution_count": null,
   "metadata": {
    "collapsed": false,
    "slideshow": {
     "slide_type": "skip"
    }
   },
   "outputs": [],
   "source": [
    "# prot=Molecule(\"bentryp/trypsin.pdb\")\n",
    "# prot.filter('chain A and (protein or water or resname CA)')\n"
   ]
  },
  {
   "cell_type": "markdown",
   "metadata": {
    "slideshow": {
     "slide_type": "subslide"
    }
   },
   "source": [
    "## Case 1. Globular protein, no ligand"
   ]
  },
  {
   "cell_type": "markdown",
   "metadata": {},
   "source": [
    "### Step 1a. Segment."
   ]
  },
  {
   "cell_type": "code",
   "execution_count": null,
   "metadata": {
    "collapsed": false,
    "slideshow": {
     "slide_type": "-"
    }
   },
   "outputs": [],
   "source": [
    "tryp = Molecule(\"3PTB\")\n",
    "tryp.remove(\"resname BEN\")\n",
    "tryp_op = proteinPrepare(tryp)\n",
    "tryp_seg = autoSegment(tryp_op)"
   ]
  },
  {
   "cell_type": "markdown",
   "metadata": {
    "slideshow": {
     "slide_type": "subslide"
    }
   },
   "source": [
    "### Step 1b. Solvate"
   ]
  },
  {
   "cell_type": "code",
   "execution_count": null,
   "metadata": {
    "collapsed": false,
    "scrolled": false,
    "slideshow": {
     "slide_type": "-"
    }
   },
   "outputs": [],
   "source": [
    "tryp_solv = solvate(tryp_seg,pad=5)\n",
    "# tryp_solv.view()"
   ]
  },
  {
   "cell_type": "markdown",
   "metadata": {
    "slideshow": {
     "slide_type": "subslide"
    }
   },
   "source": [
    "### Step 1c. Build (+ionize) for CHARMM.\n",
    "\n",
    "This step also ionizes the system (option `saltconc`)."
   ]
  },
  {
   "cell_type": "code",
   "execution_count": null,
   "metadata": {
    "collapsed": false
   },
   "outputs": [],
   "source": [
    "topos  = ['top/top_all22star_prot.rtf']\n",
    "params = ['par/par_all22star_prot.prm']\n",
    "\n",
    "tryp_charmm = charmm.build(tryp_solv, topo=topos, param=params, outdir='/tmp/build-charmm')\n"
   ]
  },
  {
   "cell_type": "markdown",
   "metadata": {
    "slideshow": {
     "slide_type": "subslide"
    }
   },
   "source": [
    "### Step 1c (alternative). Build for AMBER.\n",
    "\n",
    "This function also ionizes the system (option `saltconc`).\n",
    "\n",
    "(TIP3P parameters for Ca++ are required - using `frcmod.ionslrcm_cm_tip3p`. See [link](https://github.com/pandegroup/openmm/issues/726) )"
   ]
  },
  {
   "cell_type": "code",
   "execution_count": null,
   "metadata": {
    "collapsed": false
   },
   "outputs": [],
   "source": [
    "params = [\"frcmod.ionslrcm_cm_tip3p\"]\n",
    "tryp_amber = amber.build(tryp_solv, param=params, outdir='/tmp/build-amber')"
   ]
  },
  {
   "cell_type": "markdown",
   "metadata": {
    "slideshow": {
     "slide_type": "slide"
    }
   },
   "source": [
    "# Output\n",
    "\n",
    "The output is both a `Molecule` object, and files in the output directory specified. \n",
    "These are topologies needed by the simulation software."
   ]
  },
  {
   "cell_type": "code",
   "execution_count": null,
   "metadata": {
    "collapsed": false
   },
   "outputs": [],
   "source": [
    "!ls  /tmp/build-charmm "
   ]
  },
  {
   "cell_type": "code",
   "execution_count": null,
   "metadata": {
    "collapsed": false
   },
   "outputs": [],
   "source": [
    "!ls  /tmp/build-amber"
   ]
  },
  {
   "cell_type": "markdown",
   "metadata": {
    "slideshow": {
     "slide_type": "slide"
    }
   },
   "source": [
    "## Case 2. Building with a ligand\n",
    "\n",
    "Coexistence and automatic placement of a ligand requires further manipulation,\n",
    "because:\n",
    "\n",
    "1. The ligand may have to be arranged in a geometrically sensible way\n",
    "2. We likely need additional parameters and topologies (M. J. Harvey's parametrization session)\n",
    "\n",
    "See the tutorial [System Building Trypsin-Benzamidine](https://www.htmd.org/docs/latest/tutorials/system-building-protein-ligand.html)."
   ]
  },
  {
   "cell_type": "markdown",
   "metadata": {},
   "source": [
    "## Case 3. Membrane proteins\n",
    "\n",
    "Pre-equilibrated membranes can be merged with pre-oriented systems,\n",
    "e.g. downloaded from the OPM. See the tutorial [System Building μ-opioid Receptor in Membrane](https://www.htmd.org/docs/latest/tutorials/system-building-protein-in-membrane.html)."
   ]
  },
  {
   "cell_type": "markdown",
   "metadata": {
    "slideshow": {
     "slide_type": "slide"
    }
   },
   "source": [
    "# Citations\n",
    "\n",
    "Please acknowledge your use of PDB2PQR by citing...\n",
    " *   Dolinsky TJ, Czodrowski P, Li H, Nielsen JE, Jensen JH, Klebe G, Baker NA. PDB2PQR: Expanding and upgrading automated preparation of biomolecular structures for molecular simulations. Nucleic Acids Res, 35, W522-5, 2007. \n",
    "\n",
    "For propKa...\n",
    " *   Sondergaard, Chresten R., Mats HM Olsson, Michal Rostkowski, and Jan H. Jensen. \"Improved Treatment of Ligands and Coupling Effects in Empirical Calculation and Rationalization of pKa Values.\" Journal of Chemical Theory and Computation 7, no. 7 (2011): 2284-2295.\n"
   ]
  }
 ],
 "metadata": {
  "anaconda-cloud": {},
  "celltoolbar": "Slideshow",
  "kernelspec": {
   "display_name": "Python [default]",
   "language": "python",
   "name": "python3"
  },
  "language_info": {
   "codemirror_mode": {
    "name": "ipython",
    "version": 3
   },
   "file_extension": ".py",
   "mimetype": "text/x-python",
   "name": "python",
   "nbconvert_exporter": "python",
   "pygments_lexer": "ipython3",
   "version": "3.5.2"
  }
 },
 "nbformat": 4,
 "nbformat_minor": 1
}
