{
 "cells": [
  {
   "cell_type": "code",
   "execution_count": 1,
   "metadata": {
    "collapsed": false,
    "slideshow": {
     "slide_type": "skip"
    }
   },
   "outputs": [
    {
     "name": "stdout",
     "output_type": "stream",
     "text": [
      "\n",
      "Please cite -- HTMD: High-Throughput Molecular Dynamics for Molecular Discovery\n",
      "J. Chem. Theory Comput., 2016, 12 (4), pp 1845-1852. \n",
      "http://pubs.acs.org/doi/abs/10.1021/acs.jctc.6b00049\n",
      "\n",
      "You are on the latest HTMD version (1.5.3).\n",
      "\n"
     ]
    }
   ],
   "source": [
    "from htmd import *\n",
    "htmd.config(viewer='vmd')\n",
    "# %qtconsole\n",
    "#os.chdir('/webdata/73hboiwia98hdj209jq0/')  # Skip this command."
   ]
  },
  {
   "cell_type": "markdown",
   "metadata": {
    "slideshow": {
     "slide_type": "slide"
    }
   },
   "source": [
    "# System Building Trypsin-Benzamidine"
   ]
  },
  {
   "cell_type": "markdown",
   "metadata": {
    "slideshow": {
     "slide_type": "-"
    }
   },
   "source": [
    "by [Stefan Doerr](https://github.com/stefdoerr)\n",
    "&nbsp;\n",
    "\n",
    "&nbsp;\n",
    "\n",
    "**Download all the required files for the tutorial from this** [link](http://pub.htmd.org/73hboiwia98hdj209jq0/bentryp.tar.gz)\n",
    "\n",
    "You can watch the presentation here:\n",
    "\n",
    "[![](http://pub.htmd.org/73hboiwia98hdj209jq0/bentryp_youtube.png)](https://youtu.be/DF9cHKBX19A?t=5m42s)"
   ]
  },
  {
   "cell_type": "markdown",
   "metadata": {
    "slideshow": {
     "slide_type": "slide"
    }
   },
   "source": [
    "## Obtain structures"
   ]
  },
  {
   "cell_type": "code",
   "execution_count": 2,
   "metadata": {
    "collapsed": false
   },
   "outputs": [
    {
     "data": {
      "text/plain": [
       "[]"
      ]
     },
     "execution_count": 2,
     "metadata": {},
     "output_type": "execute_result"
    }
   ],
   "source": [
    "from glob import *\n",
    "glob('presentations-2016/bentryp/*')"
   ]
  },
  {
   "cell_type": "code",
   "execution_count": 3,
   "metadata": {
    "collapsed": false
   },
   "outputs": [
    {
     "name": "stderr",
     "output_type": "stream",
     "text": [
      "2016-11-09 11:17:21,921 - htmd.molecule.molecule - INFO - Using local copy for 3PTB: /home/ec2-user/miniconda3/lib/python3.5/site-packages/htmd/data/pdb/3ptb.pdb\n"
     ]
    }
   ],
   "source": [
    "prot = Molecule('3PTB')\n",
    "#prot = Molecule('bentryp/trypsin.pdb')\n",
    "#prot.view()"
   ]
  },
  {
   "cell_type": "markdown",
   "metadata": {
    "slideshow": {
     "slide_type": "slide"
    }
   },
   "source": [
    "## Clean structures"
   ]
  },
  {
   "cell_type": "markdown",
   "metadata": {
    "slideshow": {
     "slide_type": "-"
    }
   },
   "source": [
    "Water molecules and one calcium ion present in the PDB crystal structure were also read by HTMD. Start by removing the ligand:"
   ]
  },
  {
   "cell_type": "code",
   "execution_count": 4,
   "metadata": {
    "collapsed": false
   },
   "outputs": [
    {
     "name": "stderr",
     "output_type": "stream",
     "text": [
      "2016-11-09 11:17:22,027 - htmd.molecule.molecule - INFO - Removed 9 atoms. 1692 atoms remaining in the molecule.\n"
     ]
    }
   ],
   "source": [
    "prot.filter('chain A and (protein or water or resname CA)')\n",
    "prot.view()"
   ]
  },
  {
   "cell_type": "markdown",
   "metadata": {},
   "source": [
    "Alternatively:"
   ]
  },
  {
   "cell_type": "code",
   "execution_count": 5,
   "metadata": {
    "collapsed": false
   },
   "outputs": [
    {
     "name": "stderr",
     "output_type": "stream",
     "text": [
      "2016-11-09 11:17:24,105 - htmd.molecule.molecule - INFO - Removed 0 atoms. 1692 atoms remaining in the molecule.\n"
     ]
    },
    {
     "data": {
      "text/plain": [
       "array([], dtype=int32)"
      ]
     },
     "execution_count": 5,
     "metadata": {},
     "output_type": "execute_result"
    }
   ],
   "source": [
    "prot.remove('resname BEN')"
   ]
  },
  {
   "cell_type": "markdown",
   "metadata": {
    "slideshow": {
     "slide_type": "slide"
    }
   },
   "source": [
    "## Define segments"
   ]
  },
  {
   "cell_type": "markdown",
   "metadata": {
    "slideshow": {
     "slide_type": "-"
    }
   },
   "source": [
    "To build a system in HTMD, we need to separate the chemical molecules into separate segments. This prevents the builder from accidentally bonding different chemical molecules and allows us to add caps to them."
   ]
  },
  {
   "cell_type": "code",
   "execution_count": 6,
   "metadata": {
    "collapsed": true
   },
   "outputs": [],
   "source": [
    "prot.set('segid', 'P', sel='protein')\n",
    "prot.set('segid', 'W', sel='water')\n",
    "prot.set('segid', 'CA', sel='resname CA')"
   ]
  },
  {
   "cell_type": "markdown",
   "metadata": {},
   "source": [
    "Center the protein to the origin"
   ]
  },
  {
   "cell_type": "code",
   "execution_count": 7,
   "metadata": {
    "collapsed": true
   },
   "outputs": [],
   "source": [
    "prot.center()"
   ]
  },
  {
   "cell_type": "markdown",
   "metadata": {
    "slideshow": {
     "slide_type": "slide"
    }
   },
   "source": [
    "## Let's add a ligand!"
   ]
  },
  {
   "cell_type": "code",
   "execution_count": 8,
   "metadata": {
    "collapsed": false
   },
   "outputs": [],
   "source": [
    "ligand = Molecule('bentryp/benzamidine.pdb')\n",
    "ligand.center()\n",
    "ligand.view(sel='resname MOL', style='Licorice')"
   ]
  },
  {
   "cell_type": "markdown",
   "metadata": {},
   "source": [
    "But the ligand is located inside the protein...\n",
    "We would like the ligand to be:\n",
    "\n",
    "* At a certain distance from the protein\n",
    "* Rotated randomly, to provide different starting conditions"
   ]
  },
  {
   "cell_type": "markdown",
   "metadata": {
    "slideshow": {
     "slide_type": "slide"
    }
   },
   "source": [
    "## Let's reposition the ligand then"
   ]
  },
  {
   "cell_type": "code",
   "execution_count": 9,
   "metadata": {
    "collapsed": true
   },
   "outputs": [],
   "source": [
    "from htmd.molecule.util import uniformRandomRotation\n",
    "ligand.rotateBy(uniformRandomRotation())"
   ]
  },
  {
   "cell_type": "markdown",
   "metadata": {},
   "source": [
    "This took care of the ligand rotation. But now we still need to position it far from the protein.\n",
    "We need to find out the radius of the protein:\n",
    "\n",
    "![](http://pub.htmd.org/73hboiwia98hdj209jq0/maxdist.png)"
   ]
  },
  {
   "cell_type": "code",
   "execution_count": 10,
   "metadata": {
    "collapsed": false
   },
   "outputs": [
    {
     "name": "stdout",
     "output_type": "stream",
     "text": [
      "28.1477526263\n"
     ]
    }
   ],
   "source": [
    "from htmd.molecule.util import maxDistance\n",
    "D = maxDistance(prot, 'all')\n",
    "print(D)"
   ]
  },
  {
   "cell_type": "code",
   "execution_count": 11,
   "metadata": {
    "collapsed": true
   },
   "outputs": [],
   "source": [
    "D += 10\n",
    "ligand.moveBy([D, 0, 0])  # Move the ligand 10 Angstrom away from the furthest protein atom in X dimension\n",
    "ligand.rotateBy(uniformRandomRotation())"
   ]
  },
  {
   "cell_type": "markdown",
   "metadata": {
    "slideshow": {
     "slide_type": "slide"
    }
   },
   "source": [
    "## Don't forget to add a segment"
   ]
  },
  {
   "cell_type": "code",
   "execution_count": 12,
   "metadata": {
    "collapsed": true
   },
   "outputs": [],
   "source": [
    "ligand.set('segid','L')\n",
    "ligand.set('resname','MOL')"
   ]
  },
  {
   "cell_type": "markdown",
   "metadata": {
    "slideshow": {
     "slide_type": "slide"
    }
   },
   "source": [
    "### Mix it all together"
   ]
  },
  {
   "cell_type": "code",
   "execution_count": 13,
   "metadata": {
    "collapsed": false
   },
   "outputs": [],
   "source": [
    "mol = Molecule(name='combo')\n",
    "mol.append(prot)\n",
    "mol.append(ligand)\n",
    "mol.reps.add(sel='protein', style='NewCartoon', color='Secondary Structure')\n",
    "mol.reps.add(sel='resname MOL', style='Licorice')\n",
    "mol.view()"
   ]
  },
  {
   "cell_type": "markdown",
   "metadata": {
    "slideshow": {
     "slide_type": "slide"
    }
   },
   "source": [
    "## Solvate"
   ]
  },
  {
   "cell_type": "markdown",
   "metadata": {
    "slideshow": {
     "slide_type": "-"
    }
   },
   "source": [
    "> Water is the driving force of all nature.\n",
    ">\n",
    "> -Leonardo da Vinci\n",
    "\n",
    "![](http://pub.htmd.org/73hboiwia98hdj209jq0/waterbox.png)"
   ]
  },
  {
   "cell_type": "code",
   "execution_count": 14,
   "metadata": {
    "collapsed": false
   },
   "outputs": [
    {
     "name": "stderr",
     "output_type": "stream",
     "text": [
      "2016-11-09 11:17:28,340 - htmd.builder.solvate - INFO - Using water pdb file at: /home/ec2-user/miniconda3/lib/python3.5/site-packages/htmd/builder/wat.pdb\n",
      "2016-11-09 11:17:29,127 - htmd.builder.solvate - INFO - Replicating 8 water segments, 2 by 2 by 2\n"
     ]
    },
    {
     "name": "stdout",
     "output_type": "stream",
     "text": [
      "Solvating: 100% (8/8) [############################################] eta 00:01 /\n"
     ]
    },
    {
     "name": "stderr",
     "output_type": "stream",
     "text": [
      "2016-11-09 11:17:42,853 - htmd.builder.solvate - INFO - After removing water molecules colliding with other molecules, 19287 water molecules were added to the system.\n"
     ]
    }
   ],
   "source": [
    "D = D + 5\n",
    "smol = solvate(mol, minmax=[[-D, -D, -D], [D, D, D]])\n",
    "smol.reps.add(sel='water', style='Lines')\n",
    "smol.view()"
   ]
  },
  {
   "cell_type": "markdown",
   "metadata": {
    "slideshow": {
     "slide_type": "slide"
    }
   },
   "source": [
    "## Build"
   ]
  },
  {
   "cell_type": "code",
   "execution_count": 15,
   "metadata": {
    "collapsed": false
   },
   "outputs": [
    {
     "name": "stdout",
     "output_type": "stream",
     "text": [
      "---- Topologies files list: /home/ec2-user/miniconda3/lib/python3.5/site-packages/htmd/builder/charmmfiles/top/ ----\n",
      "top/top_all22_prot.rtf\n",
      "top/top_all22star_prot.rtf\n",
      "top/top_all35_ethers.rtf\n",
      "top/top_all36_carb.rtf\n",
      "top/top_all36_cgenff.rtf\n",
      "top/top_all36_lipid.rtf\n",
      "top/top_all36_na.rtf\n",
      "top/top_all36_prot.rtf\n",
      "top/top_water_ions.rtf\n",
      "---- Parameters files list: /home/ec2-user/miniconda3/lib/python3.5/site-packages/htmd/builder/charmmfiles/par/ ----\n",
      "par/par_all22_prot.prm\n",
      "par/par_all22star_prot.prm\n",
      "par/par_all35_ethers.prm\n",
      "par/par_all36_carb.prm\n",
      "par/par_all36_cgenff.prm\n",
      "par/par_all36_lipid.prm\n",
      "par/par_all36_na.prm\n",
      "par/par_all36_prot.prm\n",
      "par/par_all36_prot_mod.prm\n",
      "par/par_water_ions.prm\n",
      "---- Stream files list: /home/ec2-user/miniconda3/lib/python3.5/site-packages/htmd/builder/charmmfiles/str/ ----\n",
      "str/carb/toppar_all36_carb_glycolipid.str\n",
      "str/carb/toppar_all36_carb_glycopeptide.str\n",
      "str/carb/toppar_all36_carb_model.str\n",
      "str/lipid/toppar_all36_lipid_bacterial.str\n",
      "str/lipid/toppar_all36_lipid_cardiolipin.str\n",
      "str/lipid/toppar_all36_lipid_cholesterol.str\n",
      "str/lipid/toppar_all36_lipid_detergent.str\n",
      "str/lipid/toppar_all36_lipid_inositol.str\n",
      "str/lipid/toppar_all36_lipid_list.str\n",
      "str/lipid/toppar_all36_lipid_miscellaneous.str\n",
      "str/lipid/toppar_all36_lipid_model.str\n",
      "str/lipid/toppar_all36_lipid_prot.str\n",
      "str/lipid/toppar_all36_lipid_sphingo.str\n",
      "str/lipid/toppar_all36_lipid_yeast.str\n",
      "str/misc/toppar_amines.str\n",
      "str/misc/toppar_dum_noble_gases.str\n",
      "str/misc/toppar_hbond.str\n",
      "str/misc/toppar_ions_won.str\n",
      "str/na/toppar_all36_na_model.str\n",
      "str/na/toppar_all36_na_modifications.str\n",
      "str/na/toppar_all36_na_nad_ppi.str\n",
      "str/na/toppar_all36_na_reactive_rna.str\n",
      "str/na/toppar_all36_na_rna_modified.str\n",
      "str/prot/toppar_all36_prot_aldehydes.str\n",
      "str/prot/toppar_all36_prot_arg0.str\n",
      "str/prot/toppar_all36_prot_d_aminoacids.str\n",
      "str/prot/toppar_all36_prot_fluoro_alkanes.str\n",
      "str/prot/toppar_all36_prot_heme.str\n",
      "str/prot/toppar_all36_prot_mod_d_aminoacids.str\n",
      "str/prot/toppar_all36_prot_model.str\n",
      "str/prot/toppar_all36_prot_modify_res.str\n",
      "str/prot/toppar_all36_prot_na_combined.str\n",
      "str/prot/toppar_all36_prot_pyridines.str\n",
      "str/prot/toppar_all36_prot_retinol.str\n"
     ]
    }
   ],
   "source": [
    "charmm.listFiles()"
   ]
  },
  {
   "cell_type": "markdown",
   "metadata": {
    "slideshow": {
     "slide_type": "slide"
    }
   },
   "source": [
    "## Build and ionize"
   ]
  },
  {
   "cell_type": "code",
   "execution_count": 16,
   "metadata": {
    "collapsed": false,
    "scrolled": true,
    "slideshow": {
     "slide_type": "-"
    }
   },
   "outputs": [
    {
     "name": "stderr",
     "output_type": "stream",
     "text": [
      "2016-11-09 11:17:56,336 - htmd.builder.charmm - INFO - Writing out segments.\n"
     ]
    },
    {
     "name": "stdout",
     "output_type": "stream",
     "text": [
      "Bond between A: [serial 48 resid 22 resname CYS chain A segid P]\n",
      "             B: [serial 1007 resid 157 resname CYS chain A segid P]\n",
      "\n",
      "Bond between A: [serial 185 resid 42 resname CYS chain A segid P]\n",
      "             B: [serial 298 resid 58 resname CYS chain A segid P]\n",
      "\n",
      "Bond between A: [serial 811 resid 128 resname CYS chain A segid P]\n",
      "             B: [serial 1521 resid 232 resname CYS chain A segid P]\n",
      "\n",
      "Bond between A: [serial 853 resid 136 resname CYS chain A segid P]\n",
      "             B: [serial 1327 resid 201 resname CYS chain A segid P]\n",
      "\n",
      "Bond between A: [serial 1084 resid 168 resname CYS chain A segid P]\n",
      "             B: [serial 1190 resid 182 resname CYS chain A segid P]\n",
      "\n",
      "Bond between A: [serial 1265 resid 191 resname CYS chain A segid P]\n",
      "             B: [serial 1422 resid 220 resname CYS chain A segid P]\n",
      "\n"
     ]
    },
    {
     "name": "stderr",
     "output_type": "stream",
     "text": [
      "2016-11-09 11:18:39,532 - htmd.builder.builder - INFO - 6 disulfide bonds were added\n",
      "2016-11-09 11:18:39,638 - htmd.builder.charmm - INFO - Starting the build.\n",
      "2016-11-09 11:18:40,161 - htmd.builder.charmm - WARNING - Failed to set coordinates for 1 atoms.\n",
      "2016-11-09 11:18:40,162 - htmd.builder.charmm - WARNING - Poorly guessed coordinates for 137 atoms.\n",
      "2016-11-09 11:18:40,163 - htmd.builder.charmm - WARNING - Please check /home/ec2-user/03_PreparationBuilding_TGiorgino/03b_build/log.txt for further information.\n",
      "2016-11-09 11:18:40,163 - htmd.builder.charmm - INFO - Finished building.\n",
      "2016-11-09 11:18:43,370 - htmd.builder.ionize - INFO - Adding 9 anions + 0 cations for neutralizing and 0 ions for the given salt concentration.\n",
      "2016-11-09 11:18:43,828 - htmd.builder.ionize - INFO - Min distance of ions from molecule: 5A\n",
      "2016-11-09 11:18:43,829 - htmd.builder.ionize - INFO - Min distance between ions: 5A\n",
      "2016-11-09 11:18:43,829 - htmd.builder.ionize - INFO - Placing 9 ions.\n",
      "2016-11-09 11:18:58,112 - htmd.builder.charmm - INFO - Writing out segments.\n",
      "2016-11-09 11:19:36,314 - htmd.builder.charmm - INFO - Starting the build.\n",
      "2016-11-09 11:19:36,853 - htmd.builder.charmm - WARNING - Failed to set coordinates for 1 atoms.\n",
      "2016-11-09 11:19:36,854 - htmd.builder.charmm - WARNING - Poorly guessed coordinates for 137 atoms.\n",
      "2016-11-09 11:19:36,854 - htmd.builder.charmm - WARNING - Please check /home/ec2-user/03_PreparationBuilding_TGiorgino/03b_build/log.txt for further information.\n",
      "2016-11-09 11:19:36,855 - htmd.builder.charmm - INFO - Finished building.\n"
     ]
    }
   ],
   "source": [
    "topos  = ['top/top_all22star_prot.rtf', 'bentryp/benzamidine.rtf']\n",
    "params = ['par/par_all22star_prot.prm', 'bentryp/benzamidine.prm']\n",
    "\n",
    "molbuilt = charmm.build(smol, topo=topos, param=params, outdir='03b_out_build')\n",
    "\n",
    "molbuilt.view(sel='protein', style='NewCartoon', \n",
    "              color='Secondary Structure', hold=True)\n",
    "molbuilt.view(sel='resname MOL', style='Licorice', hold=True)\n",
    "molbuilt.view(sel='ions', style='VDW', hold=True)\n",
    "molbuilt.view(sel='water', style='Lines')"
   ]
  },
  {
   "cell_type": "code",
   "execution_count": 17,
   "metadata": {
    "collapsed": false
   },
   "outputs": [
    {
     "data": {
      "text/plain": [
       "<htmd.molecule.molecule.Molecule object at 0x7f7a196d10b8>\n",
       "Molecule with 61277 atoms and 1 frames\n",
       "Atom field - altloc shape: (61277,)\n",
       "Atom field - atomtype shape: (61277,)\n",
       "Atom field - beta shape: (61277,)\n",
       "Atom field - chain shape: (61277,)\n",
       "Atom field - charge shape: (61277,)\n",
       "Atom field - coords shape: (61277, 3, 1)\n",
       "Atom field - element shape: (61277,)\n",
       "Atom field - insertion shape: (61277,)\n",
       "Atom field - masses shape: (61277,)\n",
       "Atom field - name shape: (61277,)\n",
       "Atom field - occupancy shape: (61277,)\n",
       "Atom field - record shape: (61277,)\n",
       "Atom field - resid shape: (61277,)\n",
       "Atom field - resname shape: (61277,)\n",
       "Atom field - segid shape: (61277,)\n",
       "Atom field - serial shape: (61277,)\n",
       "angles shape: (25258, 3)\n",
       "bonds shape: (41964, 2)\n",
       "box shape: (3, 1)\n",
       "boxangles shape: (3, 1)\n",
       "dihedrals shape: (8659, 4)\n",
       "fileloc shape: (1, 2)\n",
       "impropers shape: (583, 4)\n",
       "reps: \n",
       "ssbonds shape: (0,)\n",
       "step shape: (0,)\n",
       "time shape: (0,)\n",
       "topoloc: /home/ec2-user/03_PreparationBuilding_TGiorgino/03b_build/structure.psf\n",
       "viewname: structure"
      ]
     },
     "execution_count": 17,
     "metadata": {},
     "output_type": "execute_result"
    }
   ],
   "source": [
    "molbuilt"
   ]
  },
  {
   "cell_type": "code",
   "execution_count": null,
   "metadata": {
    "collapsed": true
   },
   "outputs": [],
   "source": []
  }
 ],
 "metadata": {
  "anaconda-cloud": {},
  "celltoolbar": "Slideshow",
  "kernelspec": {
   "display_name": "Python [default]",
   "language": "python",
   "name": "python3"
  },
  "language_info": {
   "codemirror_mode": {
    "name": "ipython",
    "version": 3
   },
   "file_extension": ".py",
   "mimetype": "text/x-python",
   "name": "python",
   "nbconvert_exporter": "python",
   "pygments_lexer": "ipython3",
   "version": "3.5.2"
  }
 },
 "nbformat": 4,
 "nbformat_minor": 0
}
