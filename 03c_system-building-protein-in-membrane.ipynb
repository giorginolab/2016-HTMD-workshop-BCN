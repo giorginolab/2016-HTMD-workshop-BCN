{
 "cells": [
  {
   "cell_type": "code",
   "execution_count": 1,
   "metadata": {
    "collapsed": false,
    "slideshow": {
     "slide_type": "skip"
    }
   },
   "outputs": [
    {
     "name": "stdout",
     "output_type": "stream",
     "text": [
      "\n",
      "Please cite -- HTMD: High-Throughput Molecular Dynamics for Molecular Discovery\n",
      "J. Chem. Theory Comput., 2016, 12 (4), pp 1845-1852. \n",
      "http://pubs.acs.org/doi/abs/10.1021/acs.jctc.6b00049\n",
      "\n",
      "You are on the latest HTMD version (1.5.4).\n",
      "\n"
     ]
    }
   ],
   "source": [
    "from htmd import *\n",
    "htmd.config(viewer='ngl')\n",
    "#os.chdir('/webdata/73hboiwia98hdj209jq0/')  # Skip this command."
   ]
  },
  {
   "cell_type": "markdown",
   "metadata": {
    "slideshow": {
     "slide_type": "slide"
    }
   },
   "source": [
    "# System Building μ-opioid Receptor in Membrane\n",
    "by [Stefan Doerr](https://github.com/stefdoerr)\n",
    "&nbsp;\n",
    "\n",
    "If you don't have the `mor` directory, download the required files for the tutorial from this [link](http://pub.htmd.org/73hboiwia98hdj209jq0/mor.tar.gz).\n",
    "\n",
    "You can watch the presentation here:\n",
    "\n",
    "[![](http://pub.htmd.org/73hboiwia98hdj209jq0/opioid_youtube.png)](https://youtu.be/DF9cHKBX19A?t=22m17s)"
   ]
  },
  {
   "cell_type": "markdown",
   "metadata": {
    "collapsed": true,
    "slideshow": {
     "slide_type": "slide"
    }
   },
   "source": [
    "## Prepare the protein"
   ]
  },
  {
   "cell_type": "code",
   "execution_count": 4,
   "metadata": {
    "collapsed": false
   },
   "outputs": [
    {
     "name": "stderr",
     "output_type": "stream",
     "text": [
      "2016-11-09 14:58:39,433 - htmd.molecule.molecule - INFO - Removed 2546 atoms. 4836 atoms remaining in the molecule.\n"
     ]
    }
   ],
   "source": [
    "Molecule('mor/4dkl.pdb').view()"
   ]
  },
  {
   "cell_type": "code",
   "execution_count": 9,
   "metadata": {
    "collapsed": false
   },
   "outputs": [
    {
     "name": "stderr",
     "output_type": "stream",
     "text": [
      "2016-11-09 15:01:10,968 - htmd.molecule.molecule - INFO - Removed 2546 atoms. 4836 atoms remaining in the molecule.\n"
     ]
    },
    {
     "data": {
      "text/plain": [
       "32.0"
      ]
     },
     "execution_count": 9,
     "metadata": {},
     "output_type": "execute_result"
    }
   ],
   "source": [
    "from htmd.util import opm\n",
    "prot, thickness = opm('4dkl')\n",
    "thickness"
   ]
  },
  {
   "cell_type": "code",
   "execution_count": 10,
   "metadata": {
    "collapsed": false
   },
   "outputs": [
    {
     "name": "stderr",
     "output_type": "stream",
     "text": [
      "2016-11-09 15:01:11,843 - htmd.molecule.molecule - INFO - Removed 2574 atoms. 2262 atoms remaining in the molecule.\n"
     ]
    }
   ],
   "source": [
    "prot.filter('protein and noh and chain B or water within 5 of (chain B and protein)')"
   ]
  },
  {
   "cell_type": "markdown",
   "metadata": {},
   "source": [
    "Automatically detecting segments and assigning names to them."
   ]
  },
  {
   "cell_type": "code",
   "execution_count": 13,
   "metadata": {
    "collapsed": false
   },
   "outputs": [
    {
     "name": "stderr",
     "output_type": "stream",
     "text": [
      "2016-11-09 15:01:26,160 - htmd.builder.builder - INFO - Created segment P0 between resid 65 and 263.\n",
      "2016-11-09 15:01:26,161 - htmd.builder.builder - INFO - Created segment P1 between resid 270 and 352.\n"
     ]
    }
   ],
   "source": [
    "prot = autoSegment(prot,'protein')"
   ]
  },
  {
   "cell_type": "markdown",
   "metadata": {
    "slideshow": {
     "slide_type": "slide"
    }
   },
   "source": [
    "## Building the protein"
   ]
  },
  {
   "cell_type": "code",
   "execution_count": 16,
   "metadata": {
    "collapsed": false
   },
   "outputs": [
    {
     "name": "stderr",
     "output_type": "stream",
     "text": [
      "2016-11-09 15:03:13,282 - htmd.builder.charmm - INFO - Writing out segments.\n"
     ]
    },
    {
     "name": "stdout",
     "output_type": "stream",
     "text": [
      "Bond between A: [serial 3005 resid 140 resname CYS chain B segid P0]\n",
      "             B: [serial 3615 resid 217 resname CYS chain B segid P0]\n",
      "\n"
     ]
    },
    {
     "name": "stderr",
     "output_type": "stream",
     "text": [
      "2016-11-09 15:03:14,263 - htmd.builder.builder - INFO - One disulfide bond was added\n",
      "2016-11-09 15:03:14,407 - htmd.builder.charmm - INFO - Starting the build.\n",
      "2016-11-09 15:03:14,482 - htmd.builder.charmm - WARNING - Failed to guess coordinates for 1 atoms due to bad angles.\n",
      "2016-11-09 15:03:14,483 - htmd.builder.charmm - WARNING - Poorly guessed coordinates for 78 atoms.\n",
      "2016-11-09 15:03:14,484 - htmd.builder.charmm - WARNING - Please check /home/ec2-user/03_PreparationBuilding_TGiorgino/03c_out_morbuild/prot/log.txt for further information.\n",
      "2016-11-09 15:03:14,485 - htmd.builder.charmm - INFO - Finished building.\n"
     ]
    }
   ],
   "source": [
    "topos  = charmm.defaultTopo() + ['mor/ff.rtf']\n",
    "params = charmm.defaultParam() + ['mor/ff.prm']\n",
    "\n",
    "prot = charmm.build(prot, topo=topos, param=params, \n",
    "                    outdir='./03c_out_morbuild/prot/', ionize=False)"
   ]
  },
  {
   "cell_type": "code",
   "execution_count": 17,
   "metadata": {
    "collapsed": false,
    "slideshow": {
     "slide_type": "slide"
    }
   },
   "outputs": [],
   "source": [
    "prot.reps.add(sel='segid P0', style='NewCartoon', color=1)\n",
    "prot.reps.add(sel='segid P1', style='NewCartoon', color=2)\n",
    "prot.view()"
   ]
  },
  {
   "cell_type": "markdown",
   "metadata": {
    "slideshow": {
     "slide_type": "slide"
    }
   },
   "source": [
    "## Add a sodium in the receptor"
   ]
  },
  {
   "cell_type": "code",
   "execution_count": 18,
   "metadata": {
    "collapsed": false
   },
   "outputs": [],
   "source": [
    "sod = Molecule('mor/sod.pdb')\n",
    "sod.set('segid','S1')\n",
    "prot.append(sod)\n",
    "prot.reps.add(sel='ions', style='VDW')\n",
    "prot.view()"
   ]
  },
  {
   "cell_type": "markdown",
   "metadata": {
    "slideshow": {
     "slide_type": "slide"
    }
   },
   "source": [
    "## Embed the protein into a membrane"
   ]
  },
  {
   "cell_type": "code",
   "execution_count": 21,
   "metadata": {
    "collapsed": true
   },
   "outputs": [],
   "source": [
    "memb = Molecule('mor/membrane80by80C36.pdb')"
   ]
  },
  {
   "cell_type": "markdown",
   "metadata": {},
   "source": [
    "Center the membrane onto the protein center"
   ]
  },
  {
   "cell_type": "code",
   "execution_count": 22,
   "metadata": {
    "collapsed": true
   },
   "outputs": [],
   "source": [
    "pcenter = np.mean(prot.get('coords','protein'),axis=0)\n",
    "mcenter = np.mean(memb.get('coords'),axis=0)\n",
    "memb.moveBy(pcenter-mcenter)"
   ]
  },
  {
   "cell_type": "markdown",
   "metadata": {},
   "source": [
    "And now embed"
   ]
  },
  {
   "cell_type": "code",
   "execution_count": 24,
   "metadata": {
    "collapsed": false
   },
   "outputs": [
    {
     "name": "stderr",
     "output_type": "stream",
     "text": [
      "2016-11-09 15:11:43,421 - htmd.molecule.molecule - INFO - Removed 305 residues from appended Molecule due to collisions.\n"
     ]
    }
   ],
   "source": [
    "mol = prot.copy()\n",
    "mol.append(memb, collisions=True)\n",
    "# mol = embed(prot,memb)"
   ]
  },
  {
   "cell_type": "markdown",
   "metadata": {
    "slideshow": {
     "slide_type": "slide"
    }
   },
   "source": [
    "## Visualize the embedded system"
   ]
  },
  {
   "cell_type": "code",
   "execution_count": 25,
   "metadata": {
    "collapsed": false
   },
   "outputs": [],
   "source": [
    "mol.reps.add(sel='protein', style='NewCartoon', color='Secondary Structure')\n",
    "mol.reps.add(sel='ions', style='VDW')\n",
    "mol.reps.add(sel='lipids', style='Lines')\n",
    "mol.view()"
   ]
  },
  {
   "cell_type": "markdown",
   "metadata": {
    "slideshow": {
     "slide_type": "slide"
    }
   },
   "source": [
    "## Add a ligand"
   ]
  },
  {
   "cell_type": "code",
   "execution_count": 26,
   "metadata": {
    "collapsed": false
   },
   "outputs": [],
   "source": [
    "lig = Molecule('mor/QM-min.pdb') \n",
    "lig.set('segid','L');\n",
    "lcenter = np.mean(lig.get('coords'),axis=0)\n",
    "newlcenter=[random.uniform(-10, 10), random.uniform(-10, 10),  43 ]\n",
    "lig.rotateBy(uniformRandomRotation(), lcenter)\n",
    "lig.moveBy(newlcenter-lcenter)\n",
    "mol.append(lig)"
   ]
  },
  {
   "cell_type": "markdown",
   "metadata": {
    "slideshow": {
     "slide_type": "slide"
    }
   },
   "source": [
    "## Put it in a water box"
   ]
  },
  {
   "cell_type": "code",
   "execution_count": 27,
   "metadata": {
    "collapsed": false
   },
   "outputs": [
    {
     "name": "stderr",
     "output_type": "stream",
     "text": [
      "2016-11-09 15:12:59,660 - htmd.builder.solvate - INFO - Using water pdb file at: /home/ec2-user/miniconda3/lib/python3.5/site-packages/htmd/builder/wat.pdb\n",
      "2016-11-09 15:13:00,772 - htmd.builder.solvate - INFO - Replicating 8 water segments, 2 by 2 by 2\n"
     ]
    },
    {
     "name": "stdout",
     "output_type": "stream",
     "text": [
      "Solvating: 100% (8/8) [############################################] eta 00:00 /\n"
     ]
    },
    {
     "name": "stderr",
     "output_type": "stream",
     "text": [
      "2016-11-09 15:13:28,949 - htmd.builder.solvate - INFO - After removing water molecules colliding with other molecules, 9118 water molecules were added to the system.\n"
     ]
    }
   ],
   "source": [
    "coo = mol.get('coords','noh and (lipids or protein)')\n",
    "m = np.min(coo, axis=0) + [0, 0, -5]\n",
    "M = np.max(coo, axis=0) + [0, 0, 20]\n",
    "smol = solvate(mol, minmax=np.vstack((m,M)))"
   ]
  },
  {
   "cell_type": "markdown",
   "metadata": {
    "slideshow": {
     "slide_type": "slide"
    }
   },
   "source": [
    "## Visualize"
   ]
  },
  {
   "cell_type": "code",
   "execution_count": 28,
   "metadata": {
    "collapsed": false,
    "slideshow": {
     "slide_type": "-"
    }
   },
   "outputs": [],
   "source": [
    "smol.reps.add(sel='segid L', style='Licorice')\n",
    "smol.reps.add(sel='water', style='Lines')\n",
    "smol.view()"
   ]
  },
  {
   "cell_type": "markdown",
   "metadata": {
    "slideshow": {
     "slide_type": "slide"
    }
   },
   "source": [
    "## Build!"
   ]
  },
  {
   "cell_type": "code",
   "execution_count": 29,
   "metadata": {
    "collapsed": false,
    "scrolled": false
   },
   "outputs": [
    {
     "name": "stderr",
     "output_type": "stream",
     "text": [
      "2016-11-09 15:14:16,748 - htmd.builder.charmm - INFO - Writing out segments.\n"
     ]
    },
    {
     "name": "stdout",
     "output_type": "stream",
     "text": [
      "Bond between A: [serial 1212 resid 140 resname CYS chain  segid P0]\n",
      "             B: [serial 2448 resid 217 resname CYS chain  segid P0]\n",
      "\n"
     ]
    },
    {
     "name": "stderr",
     "output_type": "stream",
     "text": [
      "2016-11-09 15:15:47,385 - htmd.builder.builder - INFO - One disulfide bond was added\n",
      "2016-11-09 15:15:47,523 - htmd.builder.charmm - INFO - Starting the build.\n",
      "2016-11-09 15:15:48,101 - htmd.builder.charmm - INFO - Finished building.\n",
      "2016-11-09 15:15:51,400 - htmd.builder.ionize - INFO - Adding 14 anions + 0 cations for neutralizing and 66 ions for the given salt concentration.\n",
      "2016-11-09 15:15:51,824 - htmd.builder.ionize - INFO - Min distance of ions from molecule: 5A\n",
      "2016-11-09 15:15:51,825 - htmd.builder.ionize - INFO - Min distance between ions: 5A\n",
      "2016-11-09 15:15:51,825 - htmd.builder.ionize - INFO - Placing 80 ions.\n",
      "2016-11-09 15:16:37,026 - htmd.builder.charmm - INFO - Writing out segments.\n",
      "2016-11-09 15:18:02,966 - htmd.builder.charmm - INFO - Starting the build.\n",
      "2016-11-09 15:18:03,555 - htmd.builder.charmm - INFO - Finished building.\n"
     ]
    }
   ],
   "source": [
    "molbuilt = charmm.build(smol, topo=topos, param=params, \n",
    "                        outdir='./03c_out_morbuild/build/', saltconc=0.15)"
   ]
  },
  {
   "cell_type": "markdown",
   "metadata": {
    "slideshow": {
     "slide_type": "slide"
    }
   },
   "source": [
    "## Visualize built system"
   ]
  },
  {
   "cell_type": "code",
   "execution_count": 31,
   "metadata": {
    "collapsed": false,
    "slideshow": {
     "slide_type": "-"
    }
   },
   "outputs": [],
   "source": [
    "molbuilt.view(sel='protein', style='NewCartoon', color='Secondary Structure', hold=True)\n",
    "molbuilt.view(sel='segid L', style='Licorice', hold=True)\n",
    "molbuilt.view(sel='lipids', style='Lines', hold=True)\n",
    "molbuilt.view(sel='ions', style='VDW', hold=True)\n",
    "molbuilt.view(sel='water', style='Lines')"
   ]
  },
  {
   "cell_type": "code",
   "execution_count": 30,
   "metadata": {
    "collapsed": true
   },
   "outputs": [],
   "source": [
    "molbuilt.view()"
   ]
  },
  {
   "cell_type": "code",
   "execution_count": null,
   "metadata": {
    "collapsed": true
   },
   "outputs": [],
   "source": []
  }
 ],
 "metadata": {
  "anaconda-cloud": {},
  "celltoolbar": "Slideshow",
  "kernelspec": {
   "display_name": "Python [default]",
   "language": "python",
   "name": "python3"
  },
  "language_info": {
   "codemirror_mode": {
    "name": "ipython",
    "version": 3
   },
   "file_extension": ".py",
   "mimetype": "text/x-python",
   "name": "python",
   "nbconvert_exporter": "python",
   "pygments_lexer": "ipython3",
   "version": "3.5.2"
  },
  "widgets": {
   "state": {
    "25c7e6dc0fa243fd9d5b421deec880da": {
     "views": [
      {
       "cell_index": 31
      }
     ]
    },
    "287a5d52c7194feea9bd8cdc3887abfb": {
     "views": [
      {
       "cell_index": 26
      }
     ]
    },
    "329a0e55021b46cabec2e4dd9a7ebaf7": {
     "views": [
      {
       "cell_index": 3
      }
     ]
    },
    "3a6477b6cb004e669b355ff4067e8961": {
     "views": [
      {
       "cell_index": 30
      }
     ]
    },
    "4f303f36e08a454abb5bed186c512303": {
     "views": [
      {
       "cell_index": 4
      }
     ]
    },
    "67c36edfe24d4c92acea76e771b0df41": {
     "views": [
      {
       "cell_index": 20
      }
     ]
    },
    "68a82f956f9b447e96d27127238c95ab": {
     "views": [
      {
       "cell_index": 12
      }
     ]
    },
    "85d1520ef43d4127b70a24aec6fcb36e": {
     "views": [
      {
       "cell_index": 26
      }
     ]
    },
    "8b0cb8d1749d4f0ba0edb501bc893f48": {
     "views": [
      {
       "cell_index": 31
      }
     ]
    },
    "b2d8e26b2824426686413ca52c0dbaf1": {
     "views": [
      {
       "cell_index": 12
      }
     ]
    },
    "b42d102b5dbc4db3a76974443739cc1a": {
     "views": [
      {
       "cell_index": 10
      }
     ]
    },
    "c1ced3a0b50c4cc3931b987a8012129c": {
     "views": [
      {
       "cell_index": 20
      }
     ]
    },
    "d0b2b09b2cf944c4a090116077c10fac": {
     "views": [
      {
       "cell_index": 30
      }
     ]
    },
    "dd63ea19bd9242ff9fd7f3c33776a1cc": {
     "views": [
      {
       "cell_index": 10
      }
     ]
    }
   },
   "version": "1.2.0"
  }
 },
 "nbformat": 4,
 "nbformat_minor": 0
}
